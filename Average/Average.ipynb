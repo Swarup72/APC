{
 "cells": [
  {
   "cell_type": "markdown",
   "id": "8fbf714e",
   "metadata": {},
   "source": [
    "Q1. Write a PYTHON program to evaluate the student performance\n",
    "If % is >=90 then Excellent performance If % is >=80 then Very Good performance\n",
    "If % is >=70 then Good performance If % is >=60 then average performance else Poor performance."
   ]
  },
  {
   "cell_type": "code",
   "execution_count": 1,
   "id": "aa3b8b54",
   "metadata": {},
   "outputs": [
    {
     "name": "stdout",
     "output_type": "stream",
     "text": [
      "Average performacne\n"
     ]
    }
   ],
   "source": [
    "Score = int(input(\"Enter the Score:\"))\n",
    "if Score>=90:\n",
    "    print(\"Excellent performance\")\n",
    "elif Score>=80:\n",
    "    print(\"Very Good performance\")\n",
    "elif Score>=70:\n",
    "    print(\"Good performance\")\n",
    "elif Score>=60:\n",
    "    print(\"Average performacne\")\n",
    "else:\n",
    "    print(\"Poor performance\")"
   ]
  },
  {
   "cell_type": "markdown",
   "id": "7a9d8f68",
   "metadata": {},
   "source": [
    "Q2. Write a PYTHON program to find largest of three"
   ]
  },
  {
   "cell_type": "code",
   "execution_count": null,
   "id": "c227799b",
   "metadata": {},
   "outputs": [],
   "source": [
    "numbers = []\n",
    "\n",
    "for i in range(3):\n",
    "    num = int(input(f\"Enter number {i+1}: \"))\n",
    "    numbers.append(num)\n",
    "\n",
    "largest = max(numbers)\n",
    "\n",
    "print(\"The largest number is:\", largest)"
   ]
  },
  {
   "cell_type": "markdown",
   "id": "4ce8dbb1",
   "metadata": {},
   "source": [
    "Q3. Write a PYTHON program to find smallest of three numbers"
   ]
  },
  {
   "cell_type": "code",
   "execution_count": 2,
   "id": "fb9667cb",
   "metadata": {},
   "outputs": [
    {
     "name": "stdout",
     "output_type": "stream",
     "text": [
      "The largest number is: 2\n"
     ]
    }
   ],
   "source": [
    "numbers = []\n",
    "\n",
    "for i in range(3):\n",
    "    num = int(input(f\"Enter number {i+1}: \"))\n",
    "    numbers.append(num)\n",
    "\n",
    "minimum = min(numbers)\n",
    "\n",
    "print(\"The largest number is:\", minimum)"
   ]
  }
 ],
 "metadata": {
  "kernelspec": {
   "display_name": "Python 3",
   "language": "python",
   "name": "python3"
  },
  "language_info": {
   "codemirror_mode": {
    "name": "ipython",
    "version": 3
   },
   "file_extension": ".py",
   "mimetype": "text/x-python",
   "name": "python",
   "nbconvert_exporter": "python",
   "pygments_lexer": "ipython3",
   "version": "3.10.18"
  }
 },
 "nbformat": 4,
 "nbformat_minor": 5
}
