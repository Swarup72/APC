{
 "cells": [
  {
   "cell_type": "markdown",
   "id": "5604bc2b",
   "metadata": {},
   "source": [
    "Frozen set initilization methods "
   ]
  },
  {
   "cell_type": "code",
   "execution_count": 1,
   "id": "a9ada0f7",
   "metadata": {},
   "outputs": [
    {
     "name": "stdout",
     "output_type": "stream",
     "text": [
      "frozenset({1, 2, 3, 4})\n",
      "frozenset({10, 20, 30})\n"
     ]
    }
   ],
   "source": [
    "fs = frozenset([1, 2, 3, 4])\n",
    "print(fs) \n",
    "\n",
    "\n",
    "normal_set = {10, 20, 30}\n",
    "fs = frozenset(normal_set)\n",
    "print(fs)  \n"
   ]
  },
  {
   "cell_type": "markdown",
   "id": "8fab1c8b",
   "metadata": {},
   "source": [
    "Frozen set all the methods"
   ]
  },
  {
   "cell_type": "code",
   "execution_count": null,
   "id": "a2efeabe",
   "metadata": {},
   "outputs": [
    {
     "name": "stdout",
     "output_type": "stream",
     "text": [
      "frozenset 1: frozenset({1, 2, 3, 4})\n",
      "frozenset 2: frozenset({3, 4, 5, 6})\n",
      "\n",
      "1. Copy of fs1: frozenset({1, 2, 3, 4})\n",
      "2. Union of fs1 and fs2: frozenset({1, 2, 3, 4, 5, 6})\n",
      "3. Intersection of fs1 and fs2: frozenset({3, 4})\n",
      "4. Difference (fs1 - fs2): frozenset({1, 2})\n",
      "5. Symmetric Difference: frozenset({1, 2, 5, 6})\n",
      "6. fs1 is subset of fs2: False\n",
      "   fs_intersection is subset of fs1: True\n",
      "7. fs1 is superset of fs2: False\n",
      "   fs1 is superset of fs_intersection: True\n",
      "8. fs1 and fs2 are disjoint: False\n",
      "   fs1 and frozenset([7, 8]) are disjoint: True\n",
      " All frozenset methods demonstrated successfully!\n"
     ]
    }
   ],
   "source": [
    "# Create a frozenset\n",
    "fs1 = frozenset([1, 2, 3, 4])\n",
    "fs2 = frozenset([3, 4, 5, 6])\n",
    "\n",
    "print(\"frozenset 1:\", fs1)\n",
    "print(\"frozenset 2:\", fs2)\n",
    "\n",
    "# 1. copy()\n",
    "fs_copy = fs1.copy()\n",
    "print(\"\\n1. Copy of fs1:\", fs_copy)\n",
    "\n",
    "# 2. union()\n",
    "fs_union = fs1.union(fs2)\n",
    "print(\"2. Union of fs1 and fs2:\", fs_union)\n",
    "\n",
    "# 3. intersection()\n",
    "fs_intersection = fs1.intersection(fs2)\n",
    "print(\"3. Intersection of fs1 and fs2:\", fs_intersection)\n",
    "\n",
    "# 4. difference()\n",
    "fs_difference = fs1.difference(fs2)\n",
    "print(\"4. Difference (fs1 - fs2):\", fs_difference)\n",
    "\n",
    "# 5. symmetric_difference()\n",
    "fs_sym_diff = fs1.symmetric_difference(fs2)\n",
    "print(\"5. Symmetric Difference:\", fs_sym_diff)\n",
    "\n",
    "# 6. issubset()\n",
    "print(\"6. fs1 is subset of fs2:\", fs1.issubset(fs2))\n",
    "print(\"   fs_intersection is subset of fs1:\", fs_intersection.issubset(fs1))\n",
    "\n",
    "# 7. issuperset()\n",
    "print(\"7. fs1 is superset of fs2:\", fs1.issuperset(fs2))\n",
    "print(\"   fs1 is superset of fs_intersection:\", fs1.issuperset(fs_intersection))\n",
    "\n",
    "# 8. isdisjoint()\n",
    "print(\"8. fs1 and fs2 are disjoint:\", fs1.isdisjoint(fs2))\n",
    "print(\"   fs1 and frozenset([7, 8]) are disjoint:\", fs1.isdisjoint(frozenset([7, 8])))\n",
    "\n",
    "# 9. Show immutability (this will raise error if uncommented)\n",
    "# fs1.add(5)      \n",
    "# fs1.remove(1)    \n",
    "# fs1.clear()    \n"
   ]
  }
 ],
 "metadata": {
  "kernelspec": {
   "display_name": "Python 3",
   "language": "python",
   "name": "python3"
  },
  "language_info": {
   "codemirror_mode": {
    "name": "ipython",
    "version": 3
   },
   "file_extension": ".py",
   "mimetype": "text/x-python",
   "name": "python",
   "nbconvert_exporter": "python",
   "pygments_lexer": "ipython3",
   "version": "3.10.18"
  }
 },
 "nbformat": 4,
 "nbformat_minor": 5
}
