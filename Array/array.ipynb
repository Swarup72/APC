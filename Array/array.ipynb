{
 "cells": [
  {
   "cell_type": "markdown",
   "id": "29ef295f",
   "metadata": {},
   "source": [
    "create array in python"
   ]
  },
  {
   "cell_type": "code",
   "execution_count": 1,
   "id": "276637ef",
   "metadata": {},
   "outputs": [
    {
     "name": "stdout",
     "output_type": "stream",
     "text": [
      "array('i', [10, 20, 30, 40])\n"
     ]
    }
   ],
   "source": [
    "import array\n",
    "\n",
    "arr = array.array('i', [10, 20, 30, 40])\n",
    "print(arr) "
   ]
  },
  {
   "cell_type": "markdown",
   "id": "da953d28",
   "metadata": {},
   "source": [
    "All methods in python array"
   ]
  },
  {
   "cell_type": "code",
   "execution_count": 4,
   "id": "304b417f",
   "metadata": {},
   "outputs": [
    {
     "name": "stdout",
     "output_type": "stream",
     "text": [
      "10\n",
      "array('i', [10, 25, 30, 40])\n",
      "None\n",
      "array('i', [10, 25, 35, 30, 40, 50])\n",
      "array('i', [10, 35, 30, 40, 50])\n",
      "array('i', [10, 30, 40, 50])\n",
      "4\n"
     ]
    }
   ],
   "source": [
    "import array\n",
    "\n",
    "arr = array.array('i', [10, 20, 30, 40])\n",
    "\n",
    "# Access element\n",
    "print(arr[0]) \n",
    "\n",
    "# Modify element\n",
    "arr[1] = 25\n",
    "print(arr) \n",
    "# Append\n",
    "print(arr.append(50))\n",
    "\n",
    "# Insert at index\n",
    "arr.insert(2, 35)\n",
    "print(arr)\n",
    "\n",
    "# Remove element\n",
    "arr.remove(25)\n",
    "print(arr)\n",
    "\n",
    "# Pop element by index\n",
    "arr.pop(1)\n",
    "print(arr)\n",
    "\n",
    "# Length\n",
    "print(len(arr))\n"
   ]
  },
  {
   "cell_type": "code",
   "execution_count": null,
   "id": "0a4190fb",
   "metadata": {},
   "outputs": [],
   "source": []
  },
  {
   "cell_type": "code",
   "execution_count": null,
   "id": "f2a14fbc",
   "metadata": {},
   "outputs": [],
   "source": []
  },
  {
   "cell_type": "code",
   "execution_count": null,
   "id": "82b15018",
   "metadata": {},
   "outputs": [],
   "source": []
  },
  {
   "cell_type": "markdown",
   "id": "ca03f695",
   "metadata": {},
   "source": []
  }
 ],
 "metadata": {
  "kernelspec": {
   "display_name": "Python 3",
   "language": "python",
   "name": "python3"
  },
  "language_info": {
   "codemirror_mode": {
    "name": "ipython",
    "version": 3
   },
   "file_extension": ".py",
   "mimetype": "text/x-python",
   "name": "python",
   "nbconvert_exporter": "python",
   "pygments_lexer": "ipython3",
   "version": "3.10.18"
  }
 },
 "nbformat": 4,
 "nbformat_minor": 5
}
