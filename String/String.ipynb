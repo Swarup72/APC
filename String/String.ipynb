{
 "cells": [
  {
   "cell_type": "markdown",
   "id": "c7baa6f1",
   "metadata": {},
   "source": [
    "Three types of declaration of String"
   ]
  },
  {
   "cell_type": "code",
   "execution_count": 8,
   "id": "5435bfca",
   "metadata": {},
   "outputs": [
    {
     "name": "stdout",
     "output_type": "stream",
     "text": [
      "Hello World1.\n",
      "Hello World2.\n",
      "Hello World3.\n",
      "Hello World4.\n"
     ]
    }
   ],
   "source": [
    "strr = ['Hello World1.', \"Hello World2.\", \"\"\"Hello World3.\"\"\", '''Hello World4.''']\n",
    "for i in strr:\n",
    "    print(i)"
   ]
  },
  {
   "cell_type": "markdown",
   "id": "cb1920a7",
   "metadata": {},
   "source": [
    "Positive and Negative Indexing"
   ]
  },
  {
   "cell_type": "code",
   "execution_count": 12,
   "id": "10a54e38",
   "metadata": {},
   "outputs": [
    {
     "name": "stdout",
     "output_type": "stream",
     "text": [
      "length =  15\n",
      "Hello students!\n",
      "ents\n",
      "Hello students\n",
      "!\n",
      "Hello students\n",
      "!stneduts olleH\n"
     ]
    }
   ],
   "source": [
    "var = \"Hello students!\"\n",
    "print(\"length = \",var.__len__())\n",
    "print(var[0:])\n",
    "print(var[-5:-1])\n",
    "print(var[-15:-1])\n",
    "print(var[-1:])\n",
    "print(var[:-1])\n",
    "print(var[::-1])\n"
   ]
  },
  {
   "cell_type": "markdown",
   "id": "240bc66b",
   "metadata": {},
   "source": [
    "Different types of Fuction of Python"
   ]
  },
  {
   "cell_type": "code",
   "execution_count": 13,
   "id": "791dba65",
   "metadata": {},
   "outputs": [
    {
     "name": "stdout",
     "output_type": "stream",
     "text": [
      "Original string: Hello students, How it's going.\n",
      "1. Uppercase: HELLO STUDENTS, HOW IT'S GOING.\n",
      "2. Lowercase: hello students, how it's going.\n",
      "3. Title case: Hello Students, How It'S Going.\n",
      "4. Capitalize: Hello students, how it's going.\n",
      "5. Swapcase: hELLO STUDENTS, hOW IT'S GOING.\n",
      "6. Replace 'students' with 'everyone': Hello everyone, How it's going.\n",
      "7. Find position of 'students': 6\n",
      "8. Count of 'l': 2\n",
      "9. Is the string alphanumeric?: False\n",
      "10. Split by space: ['Hello', 'students,', 'How', \"it's\", 'going.']\n"
     ]
    }
   ],
   "source": [
    "var = \"Hello students, How it's going.\"\n",
    "\n",
    "print(\"Original string:\", var)\n",
    "print(\"1. Uppercase:\", var.upper())\n",
    "print(\"2. Lowercase:\", var.lower())\n",
    "print(\"3. Title case:\", var.title())\n",
    "print(\"4. Capitalize:\", var.capitalize())\n",
    "print(\"5. Swapcase:\", var.swapcase())\n",
    "print(\"6. Replace 'students' with 'everyone':\", var.replace('students', 'everyone'))\n",
    "print(\"7. Find position of 'students':\", var.find('students'))\n",
    "print(\"8. Count of 'l':\", var.count('l'))\n",
    "print(\"9. Is the string alphanumeric?:\", var.isalnum())\n",
    "print(\"10. Split by space:\", var.split(' '))"
   ]
  }
 ],
 "metadata": {
  "kernelspec": {
   "display_name": "Python 3",
   "language": "python",
   "name": "python3"
  },
  "language_info": {
   "codemirror_mode": {
    "name": "ipython",
    "version": 3
   },
   "file_extension": ".py",
   "mimetype": "text/x-python",
   "name": "python",
   "nbconvert_exporter": "python",
   "pygments_lexer": "ipython3",
   "version": "3.10.18"
  }
 },
 "nbformat": 4,
 "nbformat_minor": 5
}
