{
 "cells": [
  {
   "cell_type": "markdown",
   "id": "472677db",
   "metadata": {},
   "source": [
    "# Basic declaration of a class in Python\n"
   ]
  },
  {
   "cell_type": "code",
   "execution_count": 4,
   "id": "fead98a6",
   "metadata": {},
   "outputs": [
    {
     "name": "stdout",
     "output_type": "stream",
     "text": [
      "Object created!\n",
      "Hello from Myclass\n"
     ]
    }
   ],
   "source": [
    "class MyClass:\n",
    "    def __init__(self):\n",
    "        self.attribute = None\n",
    "        print(\"Object created!\")  \n",
    "\n",
    "    def my_method(self):\n",
    "        print(\"Hello from Myclass\")\n",
    "\n",
    "my_object = MyClass()\n",
    "my_object.my_method()\n"
   ]
  },
  {
   "cell_type": "markdown",
   "id": "0e1f6bd0",
   "metadata": {},
   "source": [
    "# 1.Basic Class with Default Constructor"
   ]
  },
  {
   "cell_type": "code",
   "execution_count": 6,
   "id": "d6f1adbb",
   "metadata": {},
   "outputs": [
    {
     "name": "stdout",
     "output_type": "stream",
     "text": [
      "Value: Default\n"
     ]
    }
   ],
   "source": [
    "class MyClass:\n",
    "    def __init__(self): \n",
    "        self.value = \"Default\"\n",
    "\n",
    "    def show(self):\n",
    "        print(\"Value:\", self.value)\n",
    "\n",
    "obj = MyClass()\n",
    "obj.show()\n"
   ]
  },
  {
   "cell_type": "markdown",
   "id": "d6ef140f",
   "metadata": {},
   "source": [
    "# 2.Parameterized Constructor"
   ]
  },
  {
   "cell_type": "code",
   "execution_count": 8,
   "id": "9a3ad1f3",
   "metadata": {},
   "outputs": [
    {
     "name": "stdout",
     "output_type": "stream",
     "text": [
      "Name: Alice, Age: 21\n"
     ]
    }
   ],
   "source": [
    "class MyClass:\n",
    "    def __init__(self, name, age):  \n",
    "        self.name = name\n",
    "        self.age = age\n",
    "\n",
    "    def show(self):\n",
    "        print(f\"Name: {self.name}, Age: {self.age}\")\n",
    "\n",
    "obj = MyClass(\"Alice\", 21)\n",
    "obj.show()\n"
   ]
  },
  {
   "cell_type": "markdown",
   "id": "c8706f65",
   "metadata": {},
   "source": [
    "# 3. Constructor with Default Arguments"
   ]
  },
  {
   "cell_type": "code",
   "execution_count": null,
   "id": "e1b49104",
   "metadata": {},
   "outputs": [
    {
     "name": "stdout",
     "output_type": "stream",
     "text": [
      "Name: Swarup\n",
      "Name: Guest\n"
     ]
    }
   ],
   "source": [
    "class MyClass:\n",
    "    def __init__(self, name=\"Guest\"):  \n",
    "        self.name = name\n",
    "\n",
    "    def show(self):\n",
    "        print(\"Name:\", self.name)\n",
    "\n",
    "obj1 = MyClass(\"Swarup\")\n",
    "obj2 = MyClass()\n",
    "obj1.show()\n",
    "obj2.show()\n"
   ]
  },
  {
   "cell_type": "markdown",
   "id": "0aceee70",
   "metadata": {},
   "source": [
    "# 1. Public Access Specifier"
   ]
  },
  {
   "cell_type": "code",
   "execution_count": 11,
   "id": "b8c8fbf6",
   "metadata": {},
   "outputs": [
    {
     "name": "stdout",
     "output_type": "stream",
     "text": [
      "Direct Access: I am PUBLIC\n",
      "This is a PUBLIC method\n",
      "Public Variable: I am PUBLIC\n"
     ]
    }
   ],
   "source": [
    "class PublicExample:\n",
    "    def __init__(self):\n",
    "        self.public_var = \"I am PUBLIC\"\n",
    "\n",
    "    def public_method(self):\n",
    "        print(\"This is a PUBLIC method\")\n",
    "        print(\"Public Variable:\", self.public_var)\n",
    "\n",
    "\n",
    "obj = PublicExample()\n",
    "\n",
    "print(\"Direct Access:\", obj.public_var)\n",
    "obj.public_method()\n"
   ]
  },
  {
   "cell_type": "markdown",
   "id": "43be9315",
   "metadata": {},
   "source": [
    "# 2. Protected Access Specifier"
   ]
  },
  {
   "cell_type": "code",
   "execution_count": 12,
   "id": "e872d2b0",
   "metadata": {},
   "outputs": [
    {
     "name": "stdout",
     "output_type": "stream",
     "text": [
      "Direct Access: I am PROTECTED\n",
      "This is a PROTECTED method\n",
      "Protected Variable: I am PROTECTED\n",
      "Accessing protected from child: I am PROTECTED\n",
      "This is a PROTECTED method\n",
      "Protected Variable: I am PROTECTED\n"
     ]
    }
   ],
   "source": [
    "class ProtectedExample:\n",
    "    def __init__(self):\n",
    "        self._protected_var = \"I am PROTECTED\"\n",
    "\n",
    "    def _protected_method(self):\n",
    "        print(\"This is a PROTECTED method\")\n",
    "        print(\"Protected Variable:\", self._protected_var)\n",
    "\n",
    "\n",
    "# Child class can access protected members\n",
    "class Child(ProtectedExample):\n",
    "    def show_protected(self):\n",
    "        print(\"Accessing protected from child:\", self._protected_var)\n",
    "        self._protected_method()\n",
    "\n",
    "\n",
    "obj = ProtectedExample()\n",
    "\n",
    "# Can access, but not recommended outside the class\n",
    "print(\"Direct Access:\", obj._protected_var)\n",
    "obj._protected_method()\n",
    "\n",
    "# Proper usage: in child class\n",
    "child = Child()\n",
    "child.show_protected()\n"
   ]
  },
  {
   "cell_type": "markdown",
   "id": "c8308948",
   "metadata": {},
   "source": [
    "# 3. Private Access Specifier"
   ]
  },
  {
   "cell_type": "code",
   "execution_count": 15,
   "id": "ab6177f0",
   "metadata": {},
   "outputs": [
    {
     "name": "stdout",
     "output_type": "stream",
     "text": [
      "Accessing private from inside class:\n",
      "This is a PRIVATE method\n",
      "Private Variable: I am PRIVATE\n",
      "Access using name mangling: I am PRIVATE\n"
     ]
    }
   ],
   "source": [
    "class PrivateExample:\n",
    "    def __init__(self):\n",
    "        self.__private_var = \"I am PRIVATE\"\n",
    "\n",
    "    def __private_method(self):\n",
    "        print(\"This is a PRIVATE method\")\n",
    "        print(\"Private Variable:\", self.__private_var)\n",
    "\n",
    "    def access_private_inside(self):\n",
    "        print(\"Accessing private from inside class:\")\n",
    "        self.__private_method()\n",
    "\n",
    "\n",
    "obj = PrivateExample()\n",
    "\n",
    "# Direct access is not allowed\n",
    "# print(obj.__private_var)      \n",
    "# obj.__private_method()       \n",
    "\n",
    "# Correct way: Access through class method\n",
    "obj.access_private_inside()\n",
    "\n",
    "#Can still access using name mangling (not recommended)\n",
    "print(\"Access using name mangling:\", obj._PrivateExample__private_var)\n"
   ]
  },
  {
   "cell_type": "code",
   "execution_count": null,
   "id": "29e25a43",
   "metadata": {},
   "outputs": [],
   "source": []
  },
  {
   "cell_type": "code",
   "execution_count": null,
   "id": "4aaa89fc",
   "metadata": {},
   "outputs": [],
   "source": []
  },
  {
   "cell_type": "code",
   "execution_count": null,
   "id": "c1641775",
   "metadata": {},
   "outputs": [],
   "source": []
  }
 ],
 "metadata": {
  "kernelspec": {
   "display_name": "Python 3",
   "language": "python",
   "name": "python3"
  },
  "language_info": {
   "codemirror_mode": {
    "name": "ipython",
    "version": 3
   },
   "file_extension": ".py",
   "mimetype": "text/x-python",
   "name": "python",
   "nbconvert_exporter": "python",
   "pygments_lexer": "ipython3",
   "version": "3.10.18"
  }
 },
 "nbformat": 4,
 "nbformat_minor": 5
}
