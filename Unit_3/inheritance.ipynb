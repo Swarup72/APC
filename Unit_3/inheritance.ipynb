{
 "cells": [
  {
   "cell_type": "markdown",
   "id": "b977e72d",
   "metadata": {},
   "source": [
    "# 1. Single Inheritance\n"
   ]
  },
  {
   "cell_type": "markdown",
   "id": "d4068d44",
   "metadata": {},
   "source": [
    "In single inheritance, a child class inherits from just one parent class."
   ]
  },
  {
   "cell_type": "code",
   "execution_count": 1,
   "id": "635b8976",
   "metadata": {},
   "outputs": [
    {
     "name": "stdout",
     "output_type": "stream",
     "text": [
      "Animals can make sounds.\n",
      "Dog barks: Woof! Woof!\n"
     ]
    }
   ],
   "source": [
    "# Base class (Parent)\n",
    "class Animal:\n",
    "    def speak(self):\n",
    "        print(\"Animals can make sounds.\")\n",
    "\n",
    "# Derived class (Child) inheriting from Animal\n",
    "class Dog(Animal):\n",
    "    def speak(self):\n",
    "        print(\"Dog barks: Woof! Woof!\")\n",
    "\n",
    "# Create objects\n",
    "a = Animal()\n",
    "d = Dog()\n",
    "\n",
    "# Calling methods\n",
    "a.speak()   # From Animal\n",
    "d.speak()   # Overridden in Dog, still inherited from Animal\n"
   ]
  },
  {
   "cell_type": "markdown",
   "id": "50d4f938",
   "metadata": {},
   "source": [
    "# 2. Multiple Inheritance"
   ]
  },
  {
   "cell_type": "markdown",
   "id": "2fab0447",
   "metadata": {},
   "source": [
    "In multiple inheritance, a child class can inherit from more than one parent class."
   ]
  },
  {
   "cell_type": "code",
   "execution_count": 2,
   "id": "d747ca2d",
   "metadata": {},
   "outputs": [
    {
     "name": "stdout",
     "output_type": "stream",
     "text": [
      "Child knows both driving and cooking.\n"
     ]
    }
   ],
   "source": [
    "class Father:\n",
    "    def skills(self):\n",
    "        print(\"Father knows driving.\")\n",
    "\n",
    "class Mother:\n",
    "    def skills(self):\n",
    "        print(\"Mother knows cooking.\")\n",
    "\n",
    "class Child(Father, Mother):\n",
    "    def skills(self):\n",
    "        print(\"Child knows both driving and cooking.\")\n",
    "\n",
    "c = Child()\n",
    "c.skills()\n"
   ]
  },
  {
   "cell_type": "markdown",
   "id": "fdab6fe0",
   "metadata": {},
   "source": [
    "# 3. Multilevel Inheritance"
   ]
  },
  {
   "cell_type": "markdown",
   "id": "b7f0c444",
   "metadata": {},
   "source": [
    "In multilevel inheritance, a class is derived from another derived class (like a chain)."
   ]
  },
  {
   "cell_type": "code",
   "execution_count": null,
   "id": "13209ec7",
   "metadata": {},
   "outputs": [],
   "source": [
    "class Grandparent:\n",
    "    def property(self):\n",
    "        print(\"Grandparent has land.\")\n",
    "\n",
    "class Parent(Grandparent):\n",
    "    def house(self):\n",
    "        print(\"Parent built a house.\")\n",
    "\n",
    "class Child(Parent):\n",
    "    def car(self):\n",
    "        print(\"Child bought a car.\")\n",
    "\n",
    "c = Child()\n",
    "c.property()\n",
    "c.house()\n",
    "c.car()"
   ]
  },
  {
   "cell_type": "markdown",
   "id": "aca36525",
   "metadata": {},
   "source": [
    "# 4. Hierarchical Inheritance"
   ]
  },
  {
   "cell_type": "markdown",
   "id": "01ce650e",
   "metadata": {},
   "source": [
    "In hierarchical inheritance, multiple child classes inherit from the same parent class."
   ]
  },
  {
   "cell_type": "code",
   "execution_count": 4,
   "id": "96e41974",
   "metadata": {},
   "outputs": [
    {
     "name": "stdout",
     "output_type": "stream",
     "text": [
      "Parent is a teacher.\n",
      "Child1 likes painting.\n",
      "Parent is a teacher.\n",
      "Child2 likes football.\n"
     ]
    }
   ],
   "source": [
    "class Parent:\n",
    "    def profession(self):\n",
    "        print(\"Parent is a teacher.\")\n",
    "\n",
    "class Child1(Parent):\n",
    "    def hobby(self):\n",
    "        print(\"Child1 likes painting.\")\n",
    "\n",
    "class Child2(Parent):\n",
    "    def hobby(self):\n",
    "        print(\"Child2 likes football.\")\n",
    "\n",
    "c1 = Child1()\n",
    "c1.profession()\n",
    "c1.hobby()\n",
    "\n",
    "c2 = Child2()\n",
    "c2.profession()\n",
    "c2.hobby()\n"
   ]
  },
  {
   "cell_type": "markdown",
   "id": "378ca903",
   "metadata": {},
   "source": [
    "# 5. Hybrid Inheritance"
   ]
  },
  {
   "cell_type": "markdown",
   "id": "d970cb29",
   "metadata": {},
   "source": [
    "Hybrid inheritance is a combination of more than one type of inheritance.\n",
    "\n"
   ]
  },
  {
   "cell_type": "code",
   "execution_count": 5,
   "id": "4d0046c7",
   "metadata": {},
   "outputs": [
    {
     "name": "stdout",
     "output_type": "stream",
     "text": [
      "Class A\n",
      "Class B\n",
      "Class C\n",
      "Class D\n"
     ]
    }
   ],
   "source": [
    "class A:\n",
    "    def show(self):\n",
    "        print(\"Class A\")\n",
    "\n",
    "class B(A):   # Single inheritance\n",
    "    def show_b(self):\n",
    "        print(\"Class B\")\n",
    "\n",
    "class C(A):   # Hierarchical inheritance\n",
    "    def show_c(self):\n",
    "        print(\"Class C\")\n",
    "\n",
    "class D(B, C):  # Multiple inheritance\n",
    "    def show_d(self):\n",
    "        print(\"Class D\")\n",
    "\n",
    "d = D()\n",
    "d.show()\n",
    "d.show_b()\n",
    "d.show_c()\n",
    "d.show_d()\n"
   ]
  },
  {
   "cell_type": "markdown",
   "id": "4b6dbebb",
   "metadata": {},
   "source": [
    "# Method overridding "
   ]
  },
  {
   "cell_type": "code",
   "execution_count": 3,
   "id": "e0eaa4db",
   "metadata": {},
   "outputs": [
    {
     "name": "stdout",
     "output_type": "stream",
     "text": [
      "animal sound is: \n",
      "dog sound is: barks\n",
      "cat sound is:meows\n"
     ]
    }
   ],
   "source": [
    "class animal:\n",
    "    def sound(self):\n",
    "        print(\"animal sound is: \")\n",
    "class dog(animal):\n",
    "    def sound(self):\n",
    "        print(\"dog sound is: barks\")\n",
    "class cat(animal):\n",
    "    def sound(self):\n",
    "        print(\"cat sound is:meows\")\n",
    "obj1=animal()\n",
    "obj2=dog()\n",
    "obj3=cat()\n",
    "\n",
    "obj1.sound()\n",
    "obj2.sound()\n",
    "obj3.sound()"
   ]
  },
  {
   "cell_type": "markdown",
   "id": "4683109c",
   "metadata": {},
   "source": [
    "# Super keyword"
   ]
  },
  {
   "cell_type": "markdown",
   "id": "e9340fe3",
   "metadata": {},
   "source": [
    "Calling Parent Constructor (__init__): A common application is to call the __init__ method of the parent class within the child class's __init__ method. This ensures that the parent class's attributes are properly initialized."
   ]
  },
  {
   "cell_type": "code",
   "execution_count": null,
   "id": "6aae5f87",
   "metadata": {},
   "outputs": [],
   "source": [
    "class Vehicle:\n",
    "    def __init__(self, brand):\n",
    "        self.brand = brand\n",
    "\n",
    "class Car(Vehicle):\n",
    "    def __init__(self, brand, model):\n",
    "        super().__init__(brand)  # Calls Vehicle's __init__\n",
    "        self.model = model\n",
    "\n",
    "my_car = Car(\"Toyota\", \"Camry\")\n",
    "print(my_car.brand)\n",
    "print(my_car.model)"
   ]
  }
 ],
 "metadata": {
  "kernelspec": {
   "display_name": "Python 3",
   "language": "python",
   "name": "python3"
  },
  "language_info": {
   "codemirror_mode": {
    "name": "ipython",
    "version": 3
   },
   "file_extension": ".py",
   "mimetype": "text/x-python",
   "name": "python",
   "nbconvert_exporter": "python",
   "pygments_lexer": "ipython3",
   "version": "3.10.18"
  }
 },
 "nbformat": 4,
 "nbformat_minor": 5
}
