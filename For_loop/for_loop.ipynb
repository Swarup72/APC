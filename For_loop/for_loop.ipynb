{
 "cells": [
  {
   "cell_type": "markdown",
   "id": "b80a186f",
   "metadata": {},
   "source": [
    "Q1.Write a PYTHON program to print the natural numbers up to n"
   ]
  },
  {
   "cell_type": "code",
   "execution_count": 2,
   "id": "4c4bd490",
   "metadata": {},
   "outputs": [
    {
     "name": "stdout",
     "output_type": "stream",
     "text": [
      "1\n",
      "2\n",
      "3\n",
      "4\n"
     ]
    }
   ],
   "source": [
    "i = 1;\n",
    "no = int(input(\"Enter a number to which you want to print natural numbers:\"))\n",
    "for i in range(1,no):\n",
    "    print(i)"
   ]
  },
  {
   "cell_type": "markdown",
   "id": "37644e15",
   "metadata": {},
   "source": [
    "Q2.Write a PYTHON program to print even numbers up to n"
   ]
  },
  {
   "cell_type": "code",
   "execution_count": 4,
   "id": "9b24a376",
   "metadata": {},
   "outputs": [
    {
     "name": "stdout",
     "output_type": "stream",
     "text": [
      "0\n",
      "2\n",
      "4\n",
      "6\n"
     ]
    }
   ],
   "source": [
    "no = int(input(\"Enter the number for which even numbers are printed:\"))\n",
    "for i in range(no+1):\n",
    "    if i%2 == 0:\n",
    "        print(i)"
   ]
  },
  {
   "cell_type": "markdown",
   "id": "fc73d561",
   "metadata": {},
   "source": [
    "Q3. Write a PYTHON program to print odd numbers up to n"
   ]
  },
  {
   "cell_type": "code",
   "execution_count": 8,
   "id": "82248a78",
   "metadata": {},
   "outputs": [
    {
     "name": "stdout",
     "output_type": "stream",
     "text": [
      "1\n",
      "3\n",
      "5\n",
      "7\n"
     ]
    }
   ],
   "source": [
    "no = int(input(\"Enter the number for which odd numbers are printed:\"))\n",
    "for i in range(no+1):\n",
    "    if i%2 == 1:\n",
    "        print(i)"
   ]
  },
  {
   "cell_type": "markdown",
   "id": "8d93e87f",
   "metadata": {},
   "source": [
    "Write a PYTHON program that prints 1 2 4 8 16 32\n",
    "... n(square)?"
   ]
  },
  {
   "cell_type": "code",
   "execution_count": null,
   "id": "b1af5047",
   "metadata": {},
   "outputs": [],
   "source": []
  },
  {
   "cell_type": "markdown",
   "id": "ff4d1eea",
   "metadata": {},
   "source": []
  }
 ],
 "metadata": {
  "kernelspec": {
   "display_name": "Python 3",
   "language": "python",
   "name": "python3"
  },
  "language_info": {
   "codemirror_mode": {
    "name": "ipython",
    "version": 3
   },
   "file_extension": ".py",
   "mimetype": "text/x-python",
   "name": "python",
   "nbconvert_exporter": "python",
   "pygments_lexer": "ipython3",
   "version": "3.10.18"
  }
 },
 "nbformat": 4,
 "nbformat_minor": 5
}
