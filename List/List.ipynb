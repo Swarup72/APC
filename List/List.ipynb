{
 "cells": [
  {
   "cell_type": "markdown",
   "id": "b023c22c",
   "metadata": {},
   "source": [
    "Types of declaration of List"
   ]
  },
  {
   "cell_type": "code",
   "execution_count": 1,
   "id": "ef33a9a1",
   "metadata": {},
   "outputs": [
    {
     "name": "stdout",
     "output_type": "stream",
     "text": [
      "List 1: [1, 2, 3, 4, 5]\n",
      "List 2: [6, 7, 8, 9]\n",
      "List 3: ['h', 'e', 'l', 'l', 'o']\n"
     ]
    }
   ],
   "source": [
    "list1 = [1, 2, 3, 4, 5]              \n",
    "list2 = list((6, 7, 8, 9))      \n",
    "list3 = list(\"hello\")                \n",
    "\n",
    "print(\"List 1:\", list1)\n",
    "print(\"List 2:\", list2)\n",
    "print(\"List 3:\", list3)\n"
   ]
  },
  {
   "cell_type": "markdown",
   "id": "48abae7b",
   "metadata": {},
   "source": [
    "Indexing in the List data-structure"
   ]
  },
  {
   "cell_type": "code",
   "execution_count": 3,
   "id": "a37d77ec",
   "metadata": {},
   "outputs": [
    {
     "name": "stdout",
     "output_type": "stream",
     "text": [
      "Full List: ['a', 'b', 'c', 'd', 'e', 'f']\n",
      "Element at index 0 (positive): a\n",
      "Element at index -1 (negative): f\n",
      "Slice from index 2 to 4: ['c', 'd', 'e']\n",
      "Slice from -4 to -1: ['c', 'd', 'e']\n",
      "Reverse list: ['f', 'e', 'd', 'c', 'b', 'a']\n"
     ]
    }
   ],
   "source": [
    "list1 = ['a', 'b', 'c', 'd', 'e', 'f']\n",
    "\n",
    "print(\"Full List:\", list1)\n",
    "print(\"Element at index 0 (positive):\", list1[0])    \n",
    "print(\"Element at index -1 (negative):\", list1[-1]) \n",
    "print(\"Slice from index 2 to 4:\", list1[2:5])         \n",
    "print(\"Slice from -4 to -1:\",list1[-4:-1])          \n",
    "print(\"Reverse list:\", list1[::-1])                 "
   ]
  },
  {
   "cell_type": "markdown",
   "id": "e9371f9c",
   "metadata": {},
   "source": [
    "Different Functions and Methods for Lists"
   ]
  },
  {
   "cell_type": "code",
   "execution_count": 4,
   "id": "c4034293",
   "metadata": {},
   "outputs": [
    {
     "name": "stdout",
     "output_type": "stream",
     "text": [
      "Original list: [10, 20, 30, 40, 50]\n",
      "1. After append(60): [10, 20, 30, 40, 50, 60]\n",
      "2. After insert(2, 25): [10, 20, 25, 30, 40, 50, 60]\n",
      "3. After remove(40): [10, 20, 25, 30, 50, 60]\n",
      "4. After pop(): [10, 20, 25, 30, 50] | Popped: 60\n",
      "5. Index of 30: 3\n",
      "6. Count of 20: 1\n",
      "7. After reverse(): [50, 30, 25, 20, 10]\n",
      "8. After sort(): [10, 20, 25, 30, 50]\n",
      "9. After clear(): []\n"
     ]
    }
   ],
   "source": [
    "numbers = [10, 20, 30, 40, 50]\n",
    "\n",
    "print(\"Original list:\", numbers)\n",
    "numbers.append(60)                       #\n",
    "print(\"1. After append(60):\", numbers)\n",
    "\n",
    "numbers.insert(2, 25)                   \n",
    "print(\"2. After insert(2, 25):\", numbers)\n",
    "\n",
    "numbers.remove(40)                    \n",
    "print(\"3. After remove(40):\", numbers)\n",
    "\n",
    "popped = numbers.pop()                  \n",
    "print(\"4. After pop():\", numbers, \"| Popped:\", popped)\n",
    "\n",
    "print(\"5. Index of 30:\", numbers.index(30))  \n",
    "\n",
    "print(\"6. Count of 20:\", numbers.count(20)) \n",
    "\n",
    "numbers.reverse()                        \n",
    "print(\"7. After reverse():\", numbers)\n",
    "\n",
    "numbers.sort()                        \n",
    "print(\"8. After sort():\", numbers)\n",
    "\n",
    "numbers.clear()                        \n",
    "print(\"9. After clear():\", numbers)\n"
   ]
  }
 ],
 "metadata": {
  "kernelspec": {
   "display_name": "Python 3",
   "language": "python",
   "name": "python3"
  },
  "language_info": {
   "codemirror_mode": {
    "name": "ipython",
    "version": 3
   },
   "file_extension": ".py",
   "mimetype": "text/x-python",
   "name": "python",
   "nbconvert_exporter": "python",
   "pygments_lexer": "ipython3",
   "version": "3.10.18"
  }
 },
 "nbformat": 4,
 "nbformat_minor": 5
}
