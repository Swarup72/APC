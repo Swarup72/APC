{
 "cells": [
  {
   "cell_type": "markdown",
   "id": "f80e88ff",
   "metadata": {},
   "source": [
    "Initilazation of Dictionary in Pyhton "
   ]
  },
  {
   "cell_type": "code",
   "execution_count": 7,
   "id": "abe521c3",
   "metadata": {},
   "outputs": [
    {
     "name": "stdout",
     "output_type": "stream",
     "text": [
      "{'name': 'Alice', 'age': 25}\n",
      "{'a': 1, 'b': 2}\n"
     ]
    }
   ],
   "source": [
    "person = {'name': 'Alice', 'age': 25}\n",
    "print(person) \n",
    "\n",
    "data = [('a', 1), ('b', 2)]\n",
    "my_dict = dict(data)\n",
    "print(my_dict) \n"
   ]
  },
  {
   "cell_type": "markdown",
   "id": "79405a51",
   "metadata": {},
   "source": [
    "Different methods in the Python Dictionary "
   ]
  },
  {
   "cell_type": "code",
   "execution_count": 6,
   "id": "f6ca22a3",
   "metadata": {},
   "outputs": [
    {
     "name": "stdout",
     "output_type": "stream",
     "text": [
      "Original dictionary: {'name': 'Alice', 'age': 25, 'city': 'New York'}\n",
      "Name: Alice\n",
      "Country: N/A\n",
      "Keys: dict_keys(['name', 'age', 'city'])\n",
      "Values: ['Alice', 25, 'New York']\n",
      "Items: [('name', 'Alice'), ('age', 25), ('city', 'New York')]\n",
      "After update: {'name': 'Alice', 'age': 26, 'city': 'New York', 'country': 'USA'}\n",
      "Popped age: 26\n",
      "After pop: {'name': 'Alice', 'city': 'New York', 'country': 'USA'}\n",
      "Popped item: ('country', 'USA')\n",
      "After popitem: {'name': 'Alice', 'city': 'New York'}\n",
      "City: New York\n",
      "Language: English\n",
      "After setdefault: {'name': 'Alice', 'city': 'New York', 'language': 'English'}\n",
      "Copied dictionary: {'name': 'Alice', 'city': 'New York', 'language': 'English'}\n",
      "After clear(): {}\n"
     ]
    }
   ],
   "source": [
    "# Create a dictionary\n",
    "my_dict = {'name': 'Alice', 'age': 25, 'city': 'New York'}\n",
    "print(\"Original dictionary:\", my_dict)\n",
    "\n",
    "# 1. get() – get a value\n",
    "print(\"Name:\", my_dict.get('name'))             \n",
    "print(\"Country:\", my_dict.get('country', 'N/A'))  \n",
    "\n",
    "# 2. keys() – Get all keys\n",
    "print(\"Keys:\", my_dict.keys())\n",
    "\n",
    "# 3. values() – Get all values\n",
    "print(\"Values:\", list(my_dict.values()))\n",
    "\n",
    "# 4. items() – Get key-value pairs\n",
    "print(\"Items:\", list(my_dict.items()))\n",
    "\n",
    "# 5. update() – Add/Update multiple items\n",
    "my_dict.update({'age': 26, 'country': 'USA'})\n",
    "print(\"After update:\", my_dict)\n",
    "\n",
    "# 6. pop() – Remove a key and return its value\n",
    "age = my_dict.pop('age')\n",
    "print(\"Popped age:\", age)\n",
    "print(\"After pop:\", my_dict)\n",
    "\n",
    "# 7. popitem() – Remove last inserted item (Python 3.7+)\n",
    "last_item = my_dict.popitem()\n",
    "print(\"Popped item:\", last_item)\n",
    "print(\"After popitem:\", my_dict)\n",
    "\n",
    "# 8. setdefault() – Get value of a key; set it if not present\n",
    "city = my_dict.setdefault('city', 'Los Angeles')  # Already exists\n",
    "print(\"City:\", city)\n",
    "language = my_dict.setdefault('language', 'English')  # Added\n",
    "print(\"Language:\", language)\n",
    "print(\"After setdefault:\", my_dict)\n",
    "\n",
    "# 9. copy() – Shallow copy of dictionary\n",
    "copy_dict = my_dict.copy()\n",
    "print(\"Copied dictionary:\", copy_dict)\n",
    "\n",
    "# 10. clear() – Remove all items\n",
    "my_dict.clear()\n",
    "print(\"After clear():\", my_dict)\n"
   ]
  }
 ],
 "metadata": {
  "kernelspec": {
   "display_name": "Python 3",
   "language": "python",
   "name": "python3"
  },
  "language_info": {
   "codemirror_mode": {
    "name": "ipython",
    "version": 3
   },
   "file_extension": ".py",
   "mimetype": "text/x-python",
   "name": "python",
   "nbconvert_exporter": "python",
   "pygments_lexer": "ipython3",
   "version": "3.10.18"
  }
 },
 "nbformat": 4,
 "nbformat_minor": 5
}
