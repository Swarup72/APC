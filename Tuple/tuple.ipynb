{
 "cells": [
  {
   "cell_type": "markdown",
   "id": "dc7e38c9",
   "metadata": {},
   "source": [
    "Initilization of tuple with different types in python"
   ]
  },
  {
   "cell_type": "code",
   "execution_count": 1,
   "id": "793deaa2",
   "metadata": {},
   "outputs": [
    {
     "name": "stdout",
     "output_type": "stream",
     "text": [
      "('hello', 'World', '!')\n",
      "(1, 'hello', 'World')\n"
     ]
    }
   ],
   "source": [
    "# 1st type \n",
    "tp = (\"hello\",\"World\",\"!\")\n",
    "print(tp)\n",
    "\n",
    "# 2nd type\n",
    "tpp = tuple([1,\"hello\",\"World\"])\n",
    "print(tpp)"
   ]
  },
  {
   "cell_type": "markdown",
   "id": "12afc395",
   "metadata": {},
   "source": [
    "Access Tuple Items"
   ]
  },
  {
   "cell_type": "code",
   "execution_count": 7,
   "id": "c57393a3",
   "metadata": {},
   "outputs": [
    {
     "name": "stdout",
     "output_type": "stream",
     "text": [
      "hii\n",
      "(1, 'hello', 76)\n",
      "(1, 'hello', 76, 'hii')\n"
     ]
    }
   ],
   "source": [
    "tuple1 = tuple([1,\"hello\",76,\"hii\"])\n",
    "print(tuple1[3])\n",
    "print(tuple1[:3])\n",
    "print(tuple1[::])"
   ]
  },
  {
   "cell_type": "markdown",
   "id": "535ba040",
   "metadata": {},
   "source": [
    "Basic functions"
   ]
  },
  {
   "cell_type": "code",
   "execution_count": 4,
   "id": "96b999e2",
   "metadata": {},
   "outputs": [
    {
     "name": "stdout",
     "output_type": "stream",
     "text": [
      "4\n",
      "2\n",
      "True\n",
      "1\n",
      "2\n"
     ]
    }
   ],
   "source": [
    "tuple1 = (1, 2, 3, 4)\n",
    "\n",
    "print(len(tuple1))   \n",
    "print(tuple1[1])     \n",
    "print(3 in tuple1)    \n",
    "print(tuple1.count(2)) \n",
    "print(tuple1.index(3)) \n"
   ]
  }
 ],
 "metadata": {
  "kernelspec": {
   "display_name": "Python 3",
   "language": "python",
   "name": "python3"
  },
  "language_info": {
   "codemirror_mode": {
    "name": "ipython",
    "version": 3
   },
   "file_extension": ".py",
   "mimetype": "text/x-python",
   "name": "python",
   "nbconvert_exporter": "python",
   "pygments_lexer": "ipython3",
   "version": "3.10.18"
  }
 },
 "nbformat": 4,
 "nbformat_minor": 5
}
