{
 "cells": [
  {
   "cell_type": "code",
   "execution_count": 1,
   "id": "83e48e0a",
   "metadata": {},
   "outputs": [],
   "source": [
    "import os"
   ]
  },
  {
   "cell_type": "markdown",
   "id": "5a8b8f1c",
   "metadata": {},
   "source": [
    "# Get current working directory"
   ]
  },
  {
   "cell_type": "code",
   "execution_count": 2,
   "id": "a5beb8b1",
   "metadata": {},
   "outputs": [
    {
     "name": "stdout",
     "output_type": "stream",
     "text": [
      "Current Directory: /Users/swaruppal/Documents/essentials/SEM-V/APC/Unit_2\n"
     ]
    }
   ],
   "source": [
    "print(\"Current Directory:\", os.getcwd())\n"
   ]
  },
  {
   "cell_type": "markdown",
   "id": "5d6be8a7",
   "metadata": {},
   "source": [
    "# Create a new directory\n"
   ]
  },
  {
   "cell_type": "code",
   "execution_count": 3,
   "id": "e6aeb825",
   "metadata": {},
   "outputs": [
    {
     "name": "stdout",
     "output_type": "stream",
     "text": [
      "Directory 'example_dir' created\n"
     ]
    }
   ],
   "source": [
    "new_dir = \"example_dir\"\n",
    "if not os.path.exists(new_dir):\n",
    "    os.mkdir(new_dir)\n",
    "    print(f\"Directory '{new_dir}' created\")\n",
    "else:\n",
    "    print(f\"Directory '{new_dir}' already exists\")"
   ]
  },
  {
   "cell_type": "markdown",
   "id": "0b60ab52",
   "metadata": {},
   "source": [
    "# Create nested directories\n"
   ]
  },
  {
   "cell_type": "code",
   "execution_count": 4,
   "id": "7045ad45",
   "metadata": {},
   "outputs": [
    {
     "name": "stdout",
     "output_type": "stream",
     "text": [
      "Nested directories 'parent_dir/child_dir' created\n"
     ]
    }
   ],
   "source": [
    "nested_dir = \"parent_dir/child_dir\"\n",
    "if not os.path.exists(nested_dir):\n",
    "    os.makedirs(nested_dir)\n",
    "    print(f\"Nested directories '{nested_dir}' created\")"
   ]
  },
  {
   "cell_type": "markdown",
   "id": "e54fa94c",
   "metadata": {},
   "source": [
    "# List all files and directories in current directory\n"
   ]
  },
  {
   "cell_type": "code",
   "execution_count": 5,
   "id": "62c2186c",
   "metadata": {},
   "outputs": [
    {
     "name": "stdout",
     "output_type": "stream",
     "text": [
      "List of items in current directory: ['directory.ipynb', 'directory.py', 'example_dir', 'File_Handling.py', 'parent_dir']\n"
     ]
    }
   ],
   "source": [
    "print(\"List of items in current directory:\", os.listdir(\".\"))\n"
   ]
  },
  {
   "cell_type": "markdown",
   "id": "73bbfc48",
   "metadata": {},
   "source": [
    "# Rename a directory\n"
   ]
  },
  {
   "cell_type": "code",
   "execution_count": 6,
   "id": "fb952902",
   "metadata": {},
   "outputs": [
    {
     "name": "stdout",
     "output_type": "stream",
     "text": [
      "Directory renamed to 'renamed_dir'\n"
     ]
    }
   ],
   "source": [
    "if os.path.exists(new_dir):\n",
    "    os.rename(new_dir, \"renamed_dir\")\n",
    "    print(\"Directory renamed to 'renamed_dir'\")"
   ]
  },
  {
   "cell_type": "markdown",
   "id": "39669c3e",
   "metadata": {},
   "source": [
    "# Change working directory\n"
   ]
  },
  {
   "cell_type": "code",
   "execution_count": 10,
   "id": "f92678aa",
   "metadata": {},
   "outputs": [
    {
     "name": "stdout",
     "output_type": "stream",
     "text": [
      "Now in Directory: /Users/swaruppal/Documents/essentials/SEM-V/APC/Unit_2/renamed_dir\n"
     ]
    }
   ],
   "source": [
    "os.chdir(\"renamed_dir\")\n",
    "print(\"Now in Directory:\", os.getcwd())"
   ]
  },
  {
   "cell_type": "markdown",
   "id": "6be2a121",
   "metadata": {},
   "source": [
    "# Go back to parent directory\n"
   ]
  },
  {
   "cell_type": "code",
   "execution_count": 12,
   "id": "82dfeda2",
   "metadata": {},
   "outputs": [
    {
     "name": "stdout",
     "output_type": "stream",
     "text": [
      "Back to Directory: /Users/swaruppal/Documents/essentials/SEM-V/APC/Unit_2\n"
     ]
    }
   ],
   "source": [
    "os.chdir(\"..\")\n",
    "print(\"Back to Directory:\", os.getcwd())"
   ]
  },
  {
   "cell_type": "markdown",
   "id": "c488fba9",
   "metadata": {},
   "source": [
    "# Remove an empty directory\n"
   ]
  },
  {
   "cell_type": "code",
   "execution_count": 13,
   "id": "a5197304",
   "metadata": {},
   "outputs": [
    {
     "name": "stdout",
     "output_type": "stream",
     "text": [
      "Directory 'renamed_dir' removed\n"
     ]
    }
   ],
   "source": [
    "if os.path.exists(\"renamed_dir\"):\n",
    "    os.rmdir(\"renamed_dir\")\n",
    "    print(\"Directory 'renamed_dir' removed\")"
   ]
  },
  {
   "cell_type": "markdown",
   "id": "311694d3",
   "metadata": {},
   "source": [
    "# Remove nested directories (only if empty)\n"
   ]
  },
  {
   "cell_type": "code",
   "execution_count": 14,
   "id": "584b7bfd",
   "metadata": {},
   "outputs": [
    {
     "name": "stdout",
     "output_type": "stream",
     "text": [
      "Nested directories removed\n"
     ]
    }
   ],
   "source": [
    "if os.path.exists(\"parent_dir/child_dir\"):\n",
    "    os.removedirs(\"parent_dir/child_dir\")\n",
    "    print(\"Nested directories removed\")\n"
   ]
  }
 ],
 "metadata": {
  "kernelspec": {
   "display_name": "Python 3",
   "language": "python",
   "name": "python3"
  },
  "language_info": {
   "codemirror_mode": {
    "name": "ipython",
    "version": 3
   },
   "file_extension": ".py",
   "mimetype": "text/x-python",
   "name": "python",
   "nbconvert_exporter": "python",
   "pygments_lexer": "ipython3",
   "version": "3.10.18"
  }
 },
 "nbformat": 4,
 "nbformat_minor": 5
}
