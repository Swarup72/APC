{
 "cells": [
  {
   "cell_type": "markdown",
   "id": "cb795584",
   "metadata": {},
   "source": [
    "Initialization methods in set"
   ]
  },
  {
   "cell_type": "code",
   "execution_count": 1,
   "id": "b0e07aa2",
   "metadata": {},
   "outputs": [
    {
     "name": "stdout",
     "output_type": "stream",
     "text": [
      "{1, 2, 3}\n",
      "{1, 2, 3}\n"
     ]
    }
   ],
   "source": [
    "my_set = {1, 2, 3}\n",
    "print(my_set) \n",
    "my_set = set([1, 2, 3])   \n",
    "print(my_set)  "
   ]
  },
  {
   "cell_type": "markdown",
   "id": "7bb0fb4d",
   "metadata": {},
   "source": [
    "Duplicate items are removed from set"
   ]
  },
  {
   "cell_type": "code",
   "execution_count": 2,
   "id": "e2a3836d",
   "metadata": {},
   "outputs": [
    {
     "name": "stdout",
     "output_type": "stream",
     "text": [
      "{1, 2, 3}\n"
     ]
    }
   ],
   "source": [
    "lst = [1, 2, 2, 3, 3, 3]\n",
    "my_set = set(lst)\n",
    "print(my_set)  "
   ]
  },
  {
   "cell_type": "code",
   "execution_count": null,
   "id": "9db75b9a",
   "metadata": {},
   "outputs": [
    {
     "name": "stdout",
     "output_type": "stream",
     "text": [
      "Original set: {1, 2, 3}\n",
      "After add(4): {1, 2, 3, 4}\n",
      "After update([5, 6]): {1, 2, 3, 4, 5, 6}\n",
      "After remove(2): {1, 3, 4, 5, 6}\n",
      "After discard(10): {1, 3, 4, 5, 6}\n",
      "After pop(): {3, 4, 5, 6} | Popped: 1\n",
      "Copy of set: {3, 4, 5, 6}\n",
      "After clear(): set()\n",
      "\n",
      "Set A: {1, 2, 3}\n",
      "Set B: {3, 4, 5}\n",
      "Union (A | B): {1, 2, 3, 4, 5}\n",
      "Intersection (A & B): {3}\n",
      "Difference (A - B): {1, 2}\n",
      "Symmetric Difference (A ^ B): {1, 2, 4, 5}\n",
      "A is subset of B: False\n",
      "A is superset of B: False\n",
      "A and B are disjoint: False\n"
     ]
    }
   ],
   "source": [
    "s = {1, 2, 3}\n",
    "print(\"Original set:\", s)\n",
    "\n",
    "# Add an element\n",
    "s.add(4)\n",
    "print(\"After add(4):\", s)\n",
    "\n",
    "# Update set with multiple elements\n",
    "s.update([5, 6])\n",
    "print(\"After update([5, 6]):\", s)\n",
    "\n",
    "# Remove element (raises error if not found)\n",
    "s.remove(2)\n",
    "print(\"After remove(2):\", s)\n",
    "\n",
    "# Discard element (does NOT raise error if not found)\n",
    "s.discard(10)\n",
    "print(\"After discard(10):\", s)\n",
    "\n",
    "# Pop an element (removes a random element)\n",
    "popped = s.pop()\n",
    "print(\"After pop():\", s, \"| Popped:\", popped)\n",
    "\n",
    "# Copy the set\n",
    "s_copy = s.copy()\n",
    "print(\"Copy of set:\", s_copy)\n",
    "\n",
    "# Clear all elements\n",
    "s.clear()\n",
    "print(\"After clear():\", s)\n",
    "\n",
    "# Set Operations\n",
    "a = {1, 2, 3}\n",
    "b = {3, 4, 5}\n",
    "\n",
    "print(\"\\nSet A:\", a)\n",
    "print(\"Set B:\", b)\n",
    "\n",
    "# Union - uniting both the sets\n",
    "print(\"Union (A | B):\", a.union(b))         # or a | b\n",
    "\n",
    "# Intersection - common element in both sets\n",
    "print(\"Intersection (A & B):\", a.intersection(b))  # or a & b\n",
    "\n",
    "# Difference - A-B means element in A and B element should be removed\n",
    "print(\"Difference (A - B):\", a.difference(b))      # or a - b\n",
    "\n",
    "# Symmetric Difference - set of elements which are not common in any set present\n",
    "print(\"Symmetric Difference (A ^ B):\", a.symmetric_difference(b))  # or a ^ b\n",
    "\n",
    "# Check subset - is A's all element are present in set B\n",
    "print(\"A is subset of B:\", a.issubset(b))\n",
    "\n",
    "# Check superset - If A has all the of seet B then it returns True\n",
    "print(\"A is superset of B:\", a.issuperset(b))\n",
    "\n",
    "# Check disjoint. if there is no common elements then it will return True it common element set have element then returns False\n",
    "print(\"A and B are disjoint:\", a.isdisjoint(b))\n"
   ]
  }
 ],
 "metadata": {
  "kernelspec": {
   "display_name": "Python 3",
   "language": "python",
   "name": "python3"
  },
  "language_info": {
   "codemirror_mode": {
    "name": "ipython",
    "version": 3
   },
   "file_extension": ".py",
   "mimetype": "text/x-python",
   "name": "python",
   "nbconvert_exporter": "python",
   "pygments_lexer": "ipython3",
   "version": "3.10.18"
  }
 },
 "nbformat": 4,
 "nbformat_minor": 5
}
