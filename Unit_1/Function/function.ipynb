{
 "cells": [
  {
   "cell_type": "markdown",
   "id": "7484d2ca",
   "metadata": {},
   "source": [
    "Initilization of Function in python "
   ]
  },
  {
   "cell_type": "code",
   "execution_count": 6,
   "id": "0f8b25c9",
   "metadata": {},
   "outputs": [
    {
     "name": "stdout",
     "output_type": "stream",
     "text": [
      "8\n",
      "Hello, Alice!\n",
      "manual parameter:5 and default argument:15\n"
     ]
    }
   ],
   "source": [
    "def function_name(parameters):\n",
    "    return value  \n",
    "\n",
    "#with return value\n",
    "def add_numbers(a, b):\n",
    "    return a + b\n",
    "result = add_numbers(5, 3)\n",
    "print(result)  # 8\n",
    "\n",
    "#with parameters\n",
    "def greet_user(name):\n",
    "    print(f\"Hello, {name}!\")\n",
    "greet_user(\"Alice\")\n",
    "\n",
    "#with default argument\n",
    "def default(a,b=15):\n",
    "    print(f\"manual parameter:{a} and default argument:{b}\")\n",
    "default(5)\n"
   ]
  },
  {
   "cell_type": "markdown",
   "id": "242bf98e",
   "metadata": {},
   "source": [
    "Built in function "
   ]
  },
  {
   "cell_type": "code",
   "execution_count": 4,
   "id": "065fdb00",
   "metadata": {},
   "outputs": [
    {
     "name": "stdout",
     "output_type": "stream",
     "text": [
      "5\n",
      "30\n",
      "5\n"
     ]
    }
   ],
   "source": [
    "print(len(\"Hello\"))   \n",
    "print(max(10, 20, 30)) \n",
    "print(abs(-5))            "
   ]
  }
 ],
 "metadata": {
  "kernelspec": {
   "display_name": "Python 3",
   "language": "python",
   "name": "python3"
  },
  "language_info": {
   "codemirror_mode": {
    "name": "ipython",
    "version": 3
   },
   "file_extension": ".py",
   "mimetype": "text/x-python",
   "name": "python",
   "nbconvert_exporter": "python",
   "pygments_lexer": "ipython3",
   "version": "3.10.18"
  }
 },
 "nbformat": 4,
 "nbformat_minor": 5
}
