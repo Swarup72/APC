{
 "cells": [
  {
   "cell_type": "markdown",
   "id": "b80a186f",
   "metadata": {},
   "source": [
    "Q1.Write a PYTHON program to print the natural numbers up to n"
   ]
  },
  {
   "cell_type": "code",
   "execution_count": 2,
   "id": "4c4bd490",
   "metadata": {},
   "outputs": [
    {
     "name": "stdout",
     "output_type": "stream",
     "text": [
      "1\n",
      "2\n",
      "3\n",
      "4\n"
     ]
    }
   ],
   "source": [
    "i = 1;\n",
    "no = int(input(\"Enter a number to which you want to print natural numbers:\"))\n",
    "for i in range(1,no):\n",
    "    print(i)"
   ]
  },
  {
   "cell_type": "markdown",
   "id": "37644e15",
   "metadata": {},
   "source": [
    "Q2.Write a PYTHON program to print even numbers up to n"
   ]
  },
  {
   "cell_type": "code",
   "execution_count": 4,
   "id": "9b24a376",
   "metadata": {},
   "outputs": [
    {
     "name": "stdout",
     "output_type": "stream",
     "text": [
      "0\n",
      "2\n",
      "4\n",
      "6\n"
     ]
    }
   ],
   "source": [
    "no = int(input(\"Enter the number for which even numbers are printed:\"))\n",
    "for i in range(no+1):\n",
    "    if i%2 == 0:\n",
    "        print(i)"
   ]
  },
  {
   "cell_type": "markdown",
   "id": "fc73d561",
   "metadata": {},
   "source": [
    "Q3. Write a PYTHON program to print odd numbers up to n"
   ]
  },
  {
   "cell_type": "code",
   "execution_count": 8,
   "id": "82248a78",
   "metadata": {},
   "outputs": [
    {
     "name": "stdout",
     "output_type": "stream",
     "text": [
      "1\n",
      "3\n",
      "5\n",
      "7\n"
     ]
    }
   ],
   "source": [
    "no = int(input(\"Enter the number for which odd numbers are printed:\"))\n",
    "for i in range(no+1):\n",
    "    if i%2 == 1:\n",
    "        print(i)"
   ]
  },
  {
   "cell_type": "markdown",
   "id": "8d93e87f",
   "metadata": {},
   "source": [
    "Write a PYTHON program that prints 1 2 4 8 16 32\n",
    "... n(square)?"
   ]
  },
  {
   "cell_type": "code",
   "execution_count": 12,
   "id": "b1af5047",
   "metadata": {},
   "outputs": [
    {
     "name": "stdout",
     "output_type": "stream",
     "text": [
      "1\n",
      "4\n",
      "9\n",
      "16\n",
      "25\n"
     ]
    }
   ],
   "source": [
    "no = int(input(\"Enter a number:\"))\n",
    "for i in range(1,no+1):\n",
    "    print(i*i)\n"
   ]
  },
  {
   "cell_type": "code",
   "execution_count": null,
   "id": "5a40a06f",
   "metadata": {},
   "outputs": [],
   "source": []
  },
  {
   "cell_type": "markdown",
   "id": "95044a1c",
   "metadata": {},
   "source": [
    "Write a PYTHON program to sum the given sequence\n",
    "1 + 1/1! + 1/2! + 1/3! + .... + 1/n!"
   ]
  },
  {
   "cell_type": "code",
   "execution_count": 5,
   "id": "078e900c",
   "metadata": {},
   "outputs": [
    {
     "name": "stdout",
     "output_type": "stream",
     "text": [
      "The sum of the series is: 2.7166666666666663\n"
     ]
    }
   ],
   "source": [
    "import math\n",
    "\n",
    "n = int(input(\"Enter the value of n: \"))\n",
    "\n",
    "sum_series = 0\n",
    "\n",
    "for i in range(n + 1):\n",
    "    sum_series += 1 / math.factorial(i)\n",
    "\n",
    "print(\"The sum of the series is:\", sum_series)\n"
   ]
  },
  {
   "cell_type": "markdown",
   "id": "3c8a4409",
   "metadata": {},
   "source": [
    "Write a PYTHON program to compute the cosine series\n",
    "cos(x) = 1-x^2 / 2! + x^4/4! - x^6 / 6! + ... x^n /n!"
   ]
  },
  {
   "cell_type": "code",
   "execution_count": null,
   "id": "68f7b36c",
   "metadata": {},
   "outputs": [
    {
     "name": "stdout",
     "output_type": "stream",
     "text": [
      "The value of cos(7.0) using series up to x^5 is: 0.9925461562587933\n"
     ]
    }
   ],
   "source": [
    "import math\n",
    "\n",
    "x_deg = float(input(\"Enter the value of x (in degrees): \"))\n",
    "n = int(input(\"Enter the highest power n (even number): \"))\n",
    "\n",
    "x = math.radians(x_deg)\n",
    "\n",
    "cos_x = 0\n",
    "\n",
    "for i in range(0, n + 1, 2):\n",
    "    term = ((-1) ** (i // 2)) * (x ** i) / math.factorial(i)\n",
    "    cos_x += term\n",
    "\n",
    "print(f\"The value of cos({x_deg}) using series up to x^{n} is: {cos_x}\")\n"
   ]
  },
  {
   "cell_type": "markdown",
   "id": "6536285e",
   "metadata": {},
   "source": [
    "Write a short PYTHON program to check\n",
    "weather the\n",
    "square root of number is prime or not."
   ]
  },
  {
   "cell_type": "code",
   "execution_count": 7,
   "id": "c510769f",
   "metadata": {},
   "outputs": [
    {
     "name": "stdout",
     "output_type": "stream",
     "text": [
      "The square root is not an integer, so it cannot be prime.\n"
     ]
    }
   ],
   "source": [
    "import math\n",
    "\n",
    "def is_prime(num):\n",
    "    if num < 2:\n",
    "        return False\n",
    "    for i in range(2, int(math.sqrt(num)) + 1):\n",
    "        if num % i == 0:\n",
    "            return False\n",
    "    return True\n",
    "\n",
    "number = int(input(\"Enter a number: \"))\n",
    "\n",
    "sqrt_num = math.sqrt(number)\n",
    "\n",
    "if sqrt_num.is_integer():\n",
    "    sqrt_int = int(sqrt_num)\n",
    "    if is_prime(sqrt_int):\n",
    "        print(f\"The square root {sqrt_int} is a prime number.\")\n",
    "    else:\n",
    "        print(f\"The square root {sqrt_int} is not a prime number.\")\n",
    "else:\n",
    "    print(\"The square root is not an integer, so it cannot be prime.\")\n"
   ]
  },
  {
   "cell_type": "markdown",
   "id": "02fdfc02",
   "metadata": {},
   "source": [
    "8. Write a PYTHON program to produce following design\n",
    "\n",
    "ABC\n",
    "\n",
    "ABC\n",
    "\n",
    "ABC "
   ]
  },
  {
   "cell_type": "code",
   "execution_count": 8,
   "id": "ff4d1eea",
   "metadata": {},
   "outputs": [
    {
     "name": "stdout",
     "output_type": "stream",
     "text": [
      "ABC\n",
      "ABC\n",
      "ABC\n"
     ]
    }
   ],
   "source": [
    "for i in range(3):\n",
    "    print(\"ABC\")\n"
   ]
  },
  {
   "cell_type": "markdown",
   "id": "56521b23",
   "metadata": {},
   "source": [
    "Q. Write a PYTHON program to produce following design\n",
    "\n",
    "A\n",
    "\n",
    "A B\n",
    "\n",
    "A B C\n",
    "\n",
    "A B C D\n",
    "\n",
    "A B C D E\n",
    "\n",
    "If user enters n value as 5"
   ]
  },
  {
   "cell_type": "code",
   "execution_count": 11,
   "id": "859c551f",
   "metadata": {},
   "outputs": [
    {
     "name": "stdout",
     "output_type": "stream",
     "text": [
      "A\n",
      "AB\n",
      "ABC\n",
      "ABCD\n",
      "ABCDE\n",
      "ABCDEF\n"
     ]
    }
   ],
   "source": [
    "no = int(input(\"Enter a number for printing pattern:\"))\n",
    "for i in range(1,no+1):\n",
    "    for j in range(i):\n",
    "        print(chr(65+j),end = \"\")\n",
    "\n",
    "    print()"
   ]
  },
  {
   "cell_type": "markdown",
   "id": "a9cd72e2",
   "metadata": {},
   "source": [
    "Write a PYTHON program to produce following design\n",
    "\n",
    "ABCDE \n",
    "\n",
    "ABCD\n",
    "\n",
    "ABC\n",
    "\n",
    "AB\n",
    "\n",
    "(If user enters n value as 5)"
   ]
  },
  {
   "cell_type": "code",
   "execution_count": 13,
   "id": "57a53259",
   "metadata": {},
   "outputs": [
    {
     "name": "stdout",
     "output_type": "stream",
     "text": [
      "ABCDEF\n",
      "ABCDE\n",
      "ABCD\n",
      "ABC\n",
      "AB\n",
      "A\n"
     ]
    }
   ],
   "source": [
    "n = int(input(\"Enter the value of n: \"))\n",
    "\n",
    "for i in range(n, 0, -1):\n",
    "    for j in range(i):\n",
    "        print(chr(65 + j), end=\"\")\n",
    "    print()\n"
   ]
  },
  {
   "cell_type": "markdown",
   "id": "86ee712b",
   "metadata": {},
   "source": [
    "Write a PYTHON program to produce following design\n",
    "\n",
    "1\n",
    "\n",
    "12\n",
    "\n",
    "123\n",
    "\n",
    "1234\n",
    "\n",
    "12345\n",
    "\n",
    "If user enters n value as 5\n"
   ]
  },
  {
   "cell_type": "code",
   "execution_count": 19,
   "id": "682aca52",
   "metadata": {},
   "outputs": [
    {
     "name": "stdout",
     "output_type": "stream",
     "text": [
      "1\n",
      "12\n",
      "123\n",
      "1234\n",
      "12345\n"
     ]
    }
   ],
   "source": [
    "no = int(input(\"Enter a number:\"))\n",
    "for i in range(1,no+1):\n",
    "    for j in range(1,i+1):\n",
    "        print(j,end =\"\")\n",
    "\n",
    "    print()"
   ]
  },
  {
   "cell_type": "markdown",
   "id": "b849be86",
   "metadata": {},
   "source": [
    "Write a PYTHON program to produce following design\n",
    "\n",
    "1\n",
    "\n",
    "22\n",
    "\n",
    "333\n",
    "\n",
    "4444\n",
    "\n",
    "55555\n",
    "\n",
    "If user enters n value as 5"
   ]
  },
  {
   "cell_type": "code",
   "execution_count": 21,
   "id": "f0389036",
   "metadata": {},
   "outputs": [
    {
     "name": "stdout",
     "output_type": "stream",
     "text": [
      "1\n",
      "22\n",
      "333\n",
      "4444\n",
      "55555\n",
      "666666\n"
     ]
    }
   ],
   "source": [
    "n = int(input(\"Enter the value of n: \"))\n",
    "\n",
    "for i in range(1, n + 1):\n",
    "    print(str(i) * i)\n"
   ]
  }
 ],
 "metadata": {
  "kernelspec": {
   "display_name": "Python 3",
   "language": "python",
   "name": "python3"
  },
  "language_info": {
   "codemirror_mode": {
    "name": "ipython",
    "version": 3
   },
   "file_extension": ".py",
   "mimetype": "text/x-python",
   "name": "python",
   "nbconvert_exporter": "python",
   "pygments_lexer": "ipython3",
   "version": "3.10.18"
  }
 },
 "nbformat": 4,
 "nbformat_minor": 5
}
