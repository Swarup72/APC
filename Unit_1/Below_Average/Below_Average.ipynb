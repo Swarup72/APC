{
 "cells": [
  {
   "cell_type": "markdown",
   "id": "1df1d0b1",
   "metadata": {},
   "source": [
    "Q1. Write a PYTHON program to print the natural numbers up to n"
   ]
  },
  {
   "cell_type": "code",
   "execution_count": 4,
   "id": "46ab77a1",
   "metadata": {},
   "outputs": [
    {
     "name": "stdout",
     "output_type": "stream",
     "text": [
      "0\n",
      "1\n",
      "2\n",
      "3\n",
      "4\n"
     ]
    }
   ],
   "source": [
    "no = int(input(\"Enter the number to which you want to display:\"))\n",
    "i = 0\n",
    "while i<no:\n",
    "    print(i)\n",
    "    i += 1"
   ]
  },
  {
   "cell_type": "markdown",
   "id": "d2608f9c",
   "metadata": {},
   "source": [
    "Q2. Write a PYTHON program to print even numbers up to n\n"
   ]
  },
  {
   "cell_type": "code",
   "execution_count": 8,
   "id": "e4003d2a",
   "metadata": {},
   "outputs": [
    {
     "name": "stdout",
     "output_type": "stream",
     "text": [
      "0\n",
      "2\n"
     ]
    }
   ],
   "source": [
    "no = int(input(\"Enter the no. to which you want to print even numbers:\"))\n",
    "for i in range(no):\n",
    "    if i % 2==0:\n",
    "        print(i)"
   ]
  },
  {
   "cell_type": "markdown",
   "id": "55e2dade",
   "metadata": {},
   "source": [
    "Q3. Write a PYTHON program that reads the number and check the no is positive or negative."
   ]
  },
  {
   "cell_type": "code",
   "execution_count": null,
   "id": "358c6585",
   "metadata": {},
   "outputs": [
    {
     "name": "stdout",
     "output_type": "stream",
     "text": [
      "Positive\n"
     ]
    }
   ],
   "source": [
    "no = int(input(\"Enter a number for -ve or +ve check:\"))\n",
    "if no <0:\n",
    "    print(\"Negative\")\n",
    "\n",
    "else:\n",
    "    print(\"Positive\")"
   ]
  },
  {
   "cell_type": "markdown",
   "id": "b9660305",
   "metadata": {},
   "source": [
    "Q4. Write a PYTHON program to check entered character is vowel or"
   ]
  },
  {
   "cell_type": "code",
   "execution_count": null,
   "id": "510f131f",
   "metadata": {},
   "outputs": [],
   "source": [
    "v = input(\"Enter a character to check if it's a vowel or not: \")\n",
    "v = v.lower()\n",
    "\n",
    "if v == 'a' or v == 'e' or v == 'i' or v == 'o' or v == 'u':\n",
    "    print(\"It is a vowel.\")\n",
    "else:\n",
    "    print(\"It is not a vowel.\")\n"
   ]
  }
 ],
 "metadata": {
  "kernelspec": {
   "display_name": "Python 3",
   "language": "python",
   "name": "python3"
  },
  "language_info": {
   "codemirror_mode": {
    "name": "ipython",
    "version": 3
   },
   "file_extension": ".py",
   "mimetype": "text/x-python",
   "name": "python",
   "nbconvert_exporter": "python",
   "pygments_lexer": "ipython3",
   "version": "3.10.18"
  }
 },
 "nbformat": 4,
 "nbformat_minor": 5
}
