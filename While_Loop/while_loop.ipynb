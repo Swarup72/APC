{
 "cells": [
  {
   "cell_type": "markdown",
   "id": "70cc06bf",
   "metadata": {},
   "source": [
    "Write a PYTHON program to print the natural numbers up to n"
   ]
  },
  {
   "cell_type": "code",
   "execution_count": 32,
   "id": "3ce31dfb",
   "metadata": {},
   "outputs": [
    {
     "name": "stdout",
     "output_type": "stream",
     "text": [
      "1 2 3 4 5 6 "
     ]
    }
   ],
   "source": [
    "n = int(input(\"Enter a number: \"))\n",
    "for i in range(1, n + 1):\n",
    "    print(i, end=\" \")"
   ]
  },
  {
   "cell_type": "markdown",
   "id": "d4ef2339",
   "metadata": {},
   "source": [
    "Write a PYTHON program to print even numbers up to n"
   ]
  },
  {
   "cell_type": "code",
   "execution_count": 33,
   "id": "a2201025",
   "metadata": {},
   "outputs": [
    {
     "name": "stdout",
     "output_type": "stream",
     "text": [
      "2 4 "
     ]
    }
   ],
   "source": [
    "n = int(input(\"Enter a number: \"))\n",
    "for i in range(2, n + 1, 2):\n",
    "    print(i, end=\" \")"
   ]
  },
  {
   "cell_type": "markdown",
   "id": "d665111f",
   "metadata": {},
   "source": [
    "Write a PYTHON program to print odd numbers up to n"
   ]
  },
  {
   "cell_type": "code",
   "execution_count": 34,
   "id": "755f7940",
   "metadata": {},
   "outputs": [
    {
     "name": "stdout",
     "output_type": "stream",
     "text": [
      "1 3 "
     ]
    }
   ],
   "source": [
    "n = int(input(\"Enter a number: \"))\n",
    "for i in range(1, n + 1, 2):\n",
    "    print(i, end=\" \")\n"
   ]
  },
  {
   "cell_type": "markdown",
   "id": "8612e943",
   "metadata": {},
   "source": [
    "Write a PYTHON program to print sum of natural numbers up to n"
   ]
  },
  {
   "cell_type": "code",
   "execution_count": 35,
   "id": "28e8fa85",
   "metadata": {},
   "outputs": [
    {
     "name": "stdout",
     "output_type": "stream",
     "text": [
      "Sum of natural numbers up to 3 is: 6\n"
     ]
    }
   ],
   "source": [
    "n = int(input(\"Enter a number: \"))\n",
    "total = 0\n",
    "for i in range(1, n + 1):\n",
    "    total += i\n",
    "print(\"Sum of natural numbers up to\", n, \"is:\", total)\n"
   ]
  },
  {
   "cell_type": "markdown",
   "id": "cebbeca4",
   "metadata": {},
   "source": [
    "Write a PYTHON program to print sum of odd numbers up to n"
   ]
  },
  {
   "cell_type": "code",
   "execution_count": 36,
   "id": "d1a8f5e9",
   "metadata": {},
   "outputs": [
    {
     "name": "stdout",
     "output_type": "stream",
     "text": [
      "Sum of odd numbers up to 4 is: 4\n"
     ]
    }
   ],
   "source": [
    "n = int(input(\"Enter a number: \"))\n",
    "total = 0\n",
    "for i in range(1, n + 1, 2):\n",
    "    total += i\n",
    "print(\"Sum of odd numbers up to\", n, \"is:\", total)\n"
   ]
  },
  {
   "cell_type": "markdown",
   "id": "bb172a1e",
   "metadata": {},
   "source": [
    "n = int(input(\"Enter a number: \"))\n",
    "total = 0\n",
    "for i in range(2, n + 1, 2):\n",
    "    total += i\n",
    "print(\"Sum of even numbers up to\", n, \"is:\", total)\n"
   ]
  },
  {
   "cell_type": "code",
   "execution_count": 37,
   "id": "e481d5ea",
   "metadata": {},
   "outputs": [
    {
     "name": "stdout",
     "output_type": "stream",
     "text": [
      "Sum of even numbers up to 3 is: 2\n"
     ]
    }
   ],
   "source": [
    "n = int(input(\"Enter a number: \"))\n",
    "total = 0\n",
    "for i in range(2, n + 1, 2):\n",
    "    total += i\n",
    "print(\"Sum of even numbers up to\", n, \"is:\", total)\n"
   ]
  },
  {
   "cell_type": "markdown",
   "id": "886a3429",
   "metadata": {},
   "source": [
    "Write a PYTHON program to print natural numbers up to n in reverse order."
   ]
  },
  {
   "cell_type": "code",
   "execution_count": 38,
   "id": "393d1c83",
   "metadata": {},
   "outputs": [
    {
     "name": "stdout",
     "output_type": "stream",
     "text": [
      "4 3 2 1 "
     ]
    }
   ],
   "source": [
    "n = int(input(\"Enter a number: \"))\n",
    "for i in range(n, 0, -1):\n",
    "    print(i, end=\" \")\n"
   ]
  },
  {
   "cell_type": "markdown",
   "id": "acd2e3bb",
   "metadata": {},
   "source": [
    "Write a PYTHON program to print Fibonacci series up to n"
   ]
  },
  {
   "cell_type": "code",
   "execution_count": 39,
   "id": "21d38e6e",
   "metadata": {},
   "outputs": [
    {
     "name": "stdout",
     "output_type": "stream",
     "text": [
      "0 1 "
     ]
    }
   ],
   "source": [
    "n = int(input(\"Enter how many terms of Fibonacci series to print: \"))\n",
    "a, b = 0, 1\n",
    "count = 0\n",
    "\n",
    "while count < n:\n",
    "    print(a, end=\" \")\n",
    "    a, b = b, a + b\n",
    "    count += 1\n"
   ]
  },
  {
   "cell_type": "markdown",
   "id": "aa6c8ea2",
   "metadata": {},
   "source": [
    "Write a PYTHON program find a factorial of given number"
   ]
  },
  {
   "cell_type": "code",
   "execution_count": 40,
   "id": "54524e6a",
   "metadata": {},
   "outputs": [
    {
     "ename": "ValueError",
     "evalue": "invalid literal for int() with base 10: ''",
     "output_type": "error",
     "traceback": [
      "\u001b[0;31m---------------------------------------------------------------------------\u001b[0m",
      "\u001b[0;31mValueError\u001b[0m                                Traceback (most recent call last)",
      "Cell \u001b[0;32mIn[40], line 1\u001b[0m\n\u001b[0;32m----> 1\u001b[0m n \u001b[38;5;241m=\u001b[39m \u001b[38;5;28;43mint\u001b[39;49m\u001b[43m(\u001b[49m\u001b[38;5;28;43minput\u001b[39;49m\u001b[43m(\u001b[49m\u001b[38;5;124;43m\"\u001b[39;49m\u001b[38;5;124;43mEnter a number: \u001b[39;49m\u001b[38;5;124;43m\"\u001b[39;49m\u001b[43m)\u001b[49m\u001b[43m)\u001b[49m\n\u001b[1;32m      2\u001b[0m factorial \u001b[38;5;241m=\u001b[39m \u001b[38;5;241m1\u001b[39m\n\u001b[1;32m      3\u001b[0m \u001b[38;5;28;01mfor\u001b[39;00m i \u001b[38;5;129;01min\u001b[39;00m \u001b[38;5;28mrange\u001b[39m(\u001b[38;5;241m1\u001b[39m, n \u001b[38;5;241m+\u001b[39m \u001b[38;5;241m1\u001b[39m):\n",
      "\u001b[0;31mValueError\u001b[0m: invalid literal for int() with base 10: ''"
     ]
    }
   ],
   "source": [
    "n = int(input(\"Enter a number: \"))\n",
    "factorial = 1\n",
    "for i in range(1, n + 1):\n",
    "    factorial *= i\n",
    "print(\"Factorial of\", n, \"is:\", factorial)\n"
   ]
  },
  {
   "cell_type": "markdown",
   "id": "a1467f54",
   "metadata": {},
   "source": [
    "Write a PYTHON program to check the entered number is prime or not"
   ]
  },
  {
   "cell_type": "code",
   "execution_count": null,
   "id": "70d0e664",
   "metadata": {},
   "outputs": [
    {
     "name": "stdout",
     "output_type": "stream",
     "text": [
      "6 is NOT a Prime number\n"
     ]
    }
   ],
   "source": [
    "import math\n",
    "\n",
    "no = int(input(\"Enter a number to check if it is prime or not: \"))\n",
    "is_prime = True\n",
    "\n",
    "if no <= 1:\n",
    "    is_prime = False\n",
    "else:\n",
    "    for i in range(2, math.isqrt(no) + 1):\n",
    "        if no % i == 0:\n",
    "            is_prime = False\n",
    "            break\n",
    "\n",
    "if is_prime:\n",
    "    print(no, \"is a Prime number\")\n",
    "else:\n",
    "    print(no, \"is NOT a Prime number\")\n"
   ]
  },
  {
   "cell_type": "markdown",
   "id": "25d469eb",
   "metadata": {},
   "source": [
    "Write a PYTHON program to find the sum of digits of given number"
   ]
  },
  {
   "cell_type": "code",
   "execution_count": null,
   "id": "c34842bc",
   "metadata": {},
   "outputs": [
    {
     "name": "stdout",
     "output_type": "stream",
     "text": [
      "Sum of digits of 554 is: 14\n"
     ]
    }
   ],
   "source": [
    "num = int(input(\"Enter a number: \"))\n",
    "total = 0\n",
    "temp = num\n",
    "\n",
    "while temp > 0:\n",
    "    digit = temp % 10 #gets the rightmost element\n",
    "    total += digit\n",
    "    temp = temp // 10 #removes the last element \n",
    "\n",
    "print(\"Sum of digits of\", num, \"is:\", total)\n"
   ]
  },
  {
   "cell_type": "markdown",
   "id": "8fd653b6",
   "metadata": {},
   "source": [
    " Write a PYTHON program to check the entered number is palindrome or not"
   ]
  },
  {
   "cell_type": "code",
   "execution_count": null,
   "id": "099e939c",
   "metadata": {},
   "outputs": [
    {
     "name": "stdout",
     "output_type": "stream",
     "text": [
      "6336 is a Palindrome number\n"
     ]
    }
   ],
   "source": [
    "num = int(input(\"Enter a number to check if it is a palindrome: \"))\n",
    "original = num\n",
    "reverse = 0\n",
    "\n",
    "while num > 0:\n",
    "    digit = num % 10\n",
    "    reverse = reverse * 10 + digit\n",
    "    num = num // 10\n",
    "\n",
    "if original == reverse:\n",
    "    print(original, \"is a Palindrome number\")\n",
    "else:\n",
    "    print(original, \"is NOT a Palindrome number\")\n"
   ]
  },
  {
   "cell_type": "markdown",
   "id": "68a44091",
   "metadata": {},
   "source": [
    "Write a PYTHON program to reverse the given number."
   ]
  },
  {
   "cell_type": "code",
   "execution_count": null,
   "id": "25c277b1",
   "metadata": {},
   "outputs": [
    {
     "name": "stdout",
     "output_type": "stream",
     "text": [
      "original number: 56643\n",
      "Reversed number is: 34665\n"
     ]
    }
   ],
   "source": [
    "num = int(input(\"Enter a number to reverse: \"))\n",
    "numm = num\n",
    "reverse = 0\n",
    "\n",
    "while num > 0:\n",
    "    digit = num % 10           \n",
    "    reverse = reverse * 10 + digit \n",
    "    num = num // 10            \n",
    "print(\"original number:\",numm)\n",
    "print(\"Reversed number is:\", reverse)\n"
   ]
  },
  {
   "cell_type": "markdown",
   "id": "46454afb",
   "metadata": {},
   "source": [
    "Write a PYTHON\n",
    "program to print the\n",
    "multiplication table"
   ]
  },
  {
   "cell_type": "code",
   "execution_count": null,
   "id": "7776f524",
   "metadata": {},
   "outputs": [
    {
     "name": "stdout",
     "output_type": "stream",
     "text": [
      "\n",
      "Multiplication Table of 8:\n",
      "\n",
      "8 x 1 = 8\n",
      "8 x 2 = 16\n",
      "8 x 3 = 24\n",
      "8 x 4 = 32\n",
      "8 x 5 = 40\n",
      "8 x 6 = 48\n",
      "8 x 7 = 56\n",
      "8 x 8 = 64\n",
      "8 x 9 = 72\n",
      "8 x 10 = 80\n"
     ]
    }
   ],
   "source": [
    "num = int(input(\"Enter a number to print its multiplication table: \"))\n",
    "\n",
    "print(f\"\\nMultiplication Table of {num}:\\n\")\n",
    "for i in range(1, 11):\n",
    "    print(f\"{num} x {i} = {num * i}\")\n"
   ]
  },
  {
   "cell_type": "markdown",
   "id": "6c7bed0f",
   "metadata": {},
   "source": [
    "Write a PYTHON program to print the largest of n numbers"
   ]
  },
  {
   "cell_type": "code",
   "execution_count": null,
   "id": "5960ef1f",
   "metadata": {},
   "outputs": [
    {
     "name": "stdout",
     "output_type": "stream",
     "text": [
      "The largest number is: 6.0\n"
     ]
    }
   ],
   "source": [
    "n = int(input(\"Enter how many numbers you want to compare: \"))\n",
    "\n",
    "largest = None \n",
    "\n",
    "for i in range(n):\n",
    "    num = float(input(f\"Enter number {i+1}: \"))\n",
    "    if largest is None or num > largest:\n",
    "        largest = num\n",
    "\n",
    "print(\"The largest number is:\", largest)\n"
   ]
  },
  {
   "cell_type": "markdown",
   "id": "18e4b045",
   "metadata": {},
   "source": [
    "Write a PYTHON program to print smallest of n numbers"
   ]
  },
  {
   "cell_type": "code",
   "execution_count": 43,
   "id": "11df4031",
   "metadata": {},
   "outputs": [
    {
     "name": "stdout",
     "output_type": "stream",
     "text": [
      "The smallest number is : 2.0\n"
     ]
    }
   ],
   "source": [
    "no = int(input(\"Enter range to print smallest number:\"))\n",
    "smallest = None\n",
    "for i in range(no):\n",
    "    num = float(input(f\"Enter number {i+1}: \"))\n",
    "    if smallest is None or num < smallest:\n",
    "        smallest = num\n",
    "print(\"The smallest number is :\",smallest)"
   ]
  }
 ],
 "metadata": {
  "kernelspec": {
   "display_name": "Python 3",
   "language": "python",
   "name": "python3"
  },
  "language_info": {
   "codemirror_mode": {
    "name": "ipython",
    "version": 3
   },
   "file_extension": ".py",
   "mimetype": "text/x-python",
   "name": "python",
   "nbconvert_exporter": "python",
   "pygments_lexer": "ipython3",
   "version": "3.10.18"
  }
 },
 "nbformat": 4,
 "nbformat_minor": 5
}
